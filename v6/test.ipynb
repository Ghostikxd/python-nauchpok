{
 "cells": [
  {
   "cell_type": "code",
   "execution_count": 1,
   "metadata": {},
   "outputs": [
    {
     "name": "stdout",
     "output_type": "stream",
     "text": [
      "    Какое из утверждений наиболее близко описывает ваше отношение к участию в научных конференциях?  \\\n",
      "0                                 Мне это не интересно                                                \n",
      "1                Мне интересно, но я ещё не участвовал                                                \n",
      "2                Мне интересно, но я ещё не участвовал                                                \n",
      "3                Мне интересно, но я ещё не участвовал                                                \n",
      "4                Мне интересно, но я ещё не участвовал                                                \n",
      "..                                                 ...                                                \n",
      "145              Мне интересно, но я ещё не участвовал                                                \n",
      "146                               Мне это не интересно                                                \n",
      "147          Я не знаю, что такое научные конференции.                                                \n",
      "148              Мне интересно, но я ещё не участвовал                                                \n",
      "149              Я активно ищу возможности для участия                                                \n",
      "\n",
      "     Cluster  \n",
      "0          1  \n",
      "1          0  \n",
      "2          0  \n",
      "3          0  \n",
      "4          0  \n",
      "..       ...  \n",
      "145        0  \n",
      "146        1  \n",
      "147        2  \n",
      "148        0  \n",
      "149        3  \n",
      "\n",
      "[150 rows x 2 columns]\n"
     ]
    }
   ],
   "source": [
    "from sklearn.cluster import AgglomerativeClustering\n",
    "from sklearn.preprocessing import LabelEncoder\n",
    "import pandas as pd\n",
    "\n",
    "# Загрузка данных\n",
    "df = pd.read_csv('2023-11-07_Opros_pervokursnikov_3.csv')  \n",
    "\n",
    "# Используйте столбец с первым вопросом как признак\n",
    "features = df.iloc[:, 3]\n",
    "\n",
    "# Преобразование категориальных признаков в числовой формат\n",
    "label_encoder = LabelEncoder()\n",
    "features_encoded = label_encoder.fit_transform(features)\n",
    "\n",
    "# Создание нового DataFrame с закодированными данными\n",
    "df_encoded = pd.DataFrame({'Ответ_вопрос_1': features_encoded})\n",
    "\n",
    "# Присвоение весов ответам на первый вопрос\n",
    "weights_question_1 = {\n",
    "    0: 1,  # \"Я активно ищу возможности для участия\"\n",
    "    1: 3,  # \"Мне интересно, но я ещё не участвовал\"\n",
    "    2: 2,  # \"Мне это не интересно\"\n",
    "    3: 4   # \"Я не знаю, что такое научные конференции.\"\n",
    "}\n",
    "\n",
    "# Применение весов к ответам на первый вопрос\n",
    "df_encoded['Важность_вопроса_1'] = df_encoded['Ответ_вопрос_1'].map(weights_question_1)\n",
    "\n",
    "# Кластеризация с использованием Agglomerative Clustering\n",
    "n_clusters = 4  # Задаем количество кластеров\n",
    "agg_cluster = AgglomerativeClustering(n_clusters=n_clusters)\n",
    "labels_agg = agg_cluster.fit_predict(df_encoded[['Ответ_вопрос_1', 'Важность_вопроса_1']])\n",
    "\n",
    "# Добавление столбца 'Cluster' с метками кластеров в исходный датасет\n",
    "df['Cluster'] = labels_agg\n",
    "\n",
    "# Вывод результатов\n",
    "df.to_csv(f'result_df.csv', index=False)\n",
    "\n"
   ]
  }
 ],
 "metadata": {
  "kernelspec": {
   "display_name": "Python 3",
   "language": "python",
   "name": "python3"
  },
  "language_info": {
   "codemirror_mode": {
    "name": "ipython",
    "version": 3
   },
   "file_extension": ".py",
   "mimetype": "text/x-python",
   "name": "python",
   "nbconvert_exporter": "python",
   "pygments_lexer": "ipython3",
   "version": "3.11.7"
  }
 },
 "nbformat": 4,
 "nbformat_minor": 2
}
