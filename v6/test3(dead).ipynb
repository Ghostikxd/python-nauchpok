{
 "cells": [
  {
   "cell_type": "code",
   "execution_count": 20,
   "metadata": {},
   "outputs": [],
   "source": [
    "from sklearn.cluster import AgglomerativeClustering\n",
    "from sklearn.preprocessing import LabelEncoder\n",
    "import pandas as pd\n",
    "\n",
    "# Загрузка данных\n",
    "df = pd.read_csv('2023-11-07_Opros_pervokursnikov_3.csv')  \n",
    "\n",
    "# Преобразование категориальных признаков в числовой формат\n",
    "label_encoder = LabelEncoder()\n",
    "df['Ответ_вопроса_1'] = label_encoder.fit_transform(df['Какое из утверждений наиболее близко описывает ваше отношение к участию в научных конференциях?'])\n",
    "df['Ответ_вопроса_2'] = label_encoder.fit_transform(df['В какой тематике вы бы хотели участвовать в научной конференции?'])\n",
    "\n",
    "# Замена пропущенных значений на средние значения только для числовых столбцов\n",
    "df.fillna(df.mean(numeric_only=True), inplace=True)\n",
    "\n",
    "# Создание нового DataFrame с закодированными данными\n",
    "df_encoded = df[['Ответ_вопроса_1', 'Ответ_вопроса_2']]\n",
    "\n",
    "# Присвоение весов ответам на первый вопрос\n",
    "weights_question_1 = {\n",
    "    0: 1,  # \"Я активно ищу возможности для участия\"\n",
    "    1: 3,  # \"Мне интересно, но я ещё не участвовал\"\n",
    "    2: 2,  # \"Мне это не интересно\"\n",
    "    3: 4   # \"Я не знаю, что такое научные конференции.\"\n",
    "}\n",
    "\n",
    "# Присвоение весов ответам на второй вопрос\n",
    "weights_question_2 = {\n",
    "    0: 1, #'Технологии и инновации'\n",
    "    1: 3, #'Гуманитарные науки'\n",
    "    2: 3, #'Естественные науки'\n",
    "    3: 3, #'Социальные науки'\n",
    "    4: 2 #'Любая тема интересует'\n",
    "}\n",
    "\n",
    "# Применение весов к ответам на оба вопроса\n",
    "df['Важность_вопроса_1'] = df['Ответ_вопроса_1'].map(weights_question_1)\n",
    "df['Важность_вопроса_2'] = df['Ответ_вопроса_2'].map(weights_question_2)\n",
    "\n",
    "# Дополнительная логика для формирования кластеров\n",
    "additional_conditions_1 = (\n",
    "    (df['Какое из утверждений наиболее близко описывает ваше отношение к участию в научных конференциях?'] == \"Мне интересно, но я ещё не участвовал\") &\n",
    "    # (df['В какой тематике вы бы хотели участвовать в научной конференции?'] == ('Технологии и инновации'or 'Любая тема интересует'))\n",
    "    (df['В какой тематике вы бы хотели участвовать в научной конференции?'] == ('Гуманитарные науки'or 'Естественные науки' or 'Социальные науки'))\n",
    ")\n",
    "\n",
    "additional_conditions_2 = (\n",
    "    (df['Какое из утверждений наиболее близко описывает ваше отношение к участию в научных конференциях?'] == \"Я активно ищу возможности для участия\")\n",
    ")\n",
    "\n",
    "# Установка важности для ответов, соответствующих дополнительным условиям\n",
    "df.loc[additional_conditions_1, 'Важность_вопроса_1'] = 1  # Меняем важность вопроса_1 для соответствующих условий\n",
    "df.loc[additional_conditions_1, 'Важность_вопроса_2'] = 1  # Меняем важность вопроса_2 для соответствующих условий\n",
    "df.loc[additional_conditions_2, 'Важность_вопроса_1'] = 1  # Меняем важность вопроса_1 для соответствующих условий\n",
    "\n",
    "# Кластеризация с использованием Agglomerative Clustering\n",
    "n_clusters = 4  # Задаем количество кластеров\n",
    "agg_cluster = AgglomerativeClustering(n_clusters=n_clusters)\n",
    "labels_agg = agg_cluster.fit_predict(df[['Ответ_вопроса_1', 'Важность_вопроса_1', 'Важность_вопроса_2']])\n",
    "\n",
    "# Добавление столбца 'Cluster' с метками кластеров в исходный датасет\n",
    "df['Cluster'] = labels_agg\n",
    "\n",
    "# Вывод результатов\n",
    "df.to_csv('result2_df.csv', index=False)\n"
   ]
  },
  {
   "cell_type": "code",
   "execution_count": 21,
   "metadata": {},
   "outputs": [
    {
     "name": "stdout",
     "output_type": "stream",
     "text": [
      "Cluster\n",
      "0    56\n",
      "1    51\n",
      "2    32\n",
      "3    11\n",
      "Name: count, dtype: int64\n"
     ]
    }
   ],
   "source": [
    "test_question = df[['Какое из утверждений наиболее близко описывает ваше отношение к участию в научных конференциях?','В какой тематике вы бы хотели участвовать в научной конференции?', 'Cluster']]\n",
    "test_question.to_csv('test2_question.csv', index=False)\n",
    "\n",
    "cluster_counts = test_question['Cluster'].value_counts()\n",
    "print(cluster_counts)"
   ]
  },
  {
   "cell_type": "code",
   "execution_count": 22,
   "metadata": {},
   "outputs": [],
   "source": [
    "cluster_distribution = test_question.groupby(['Какое из утверждений наиболее близко описывает ваше отношение к участию в научных конференциях?','В какой тематике вы бы хотели участвовать в научной конференции?', 'Cluster']).size().reset_index(name='Counts')\n",
    "\n",
    "total_responses = cluster_distribution['Counts'].sum()\n",
    "cluster_distribution['Percentage'] = (cluster_distribution['Counts'] / total_responses) * 100\n",
    "\n",
    "cluster_distribution.to_csv('test2_distribution.csv', index=False)\n"
   ]
  }
 ],
 "metadata": {
  "kernelspec": {
   "display_name": "Python 3",
   "language": "python",
   "name": "python3"
  },
  "language_info": {
   "codemirror_mode": {
    "name": "ipython",
    "version": 3
   },
   "file_extension": ".py",
   "mimetype": "text/x-python",
   "name": "python",
   "nbconvert_exporter": "python",
   "pygments_lexer": "ipython3",
   "version": "3.11.7"
  }
 },
 "nbformat": 4,
 "nbformat_minor": 2
}
