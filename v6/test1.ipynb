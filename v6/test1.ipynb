{
 "cells": [
  {
   "cell_type": "code",
   "execution_count": 23,
   "metadata": {},
   "outputs": [],
   "source": [
    "from sklearn.cluster import AgglomerativeClustering\n",
    "from sklearn.preprocessing import LabelEncoder\n",
    "import pandas as pd\n",
    "\n",
    "# Загрузка данных\n",
    "df = pd.read_csv('2023-11-07_Opros_pervokursnikov_3.csv')  \n",
    "\n",
    "# Используйте столбцы с первым и вторым вопросами как признаки\n",
    "features_question_1 = df.iloc[:, 3]\n",
    "features_question_2 = df.iloc[:, 4]\n",
    "\n",
    "# Преобразование категориальных признаков в числовой формат\n",
    "label_encoder = LabelEncoder()\n",
    "features_encoded_question_1 = label_encoder.fit_transform(features_question_1)\n",
    "\n",
    "# Создание нового DataFrame с закодированными данными\n",
    "df_encoded = pd.DataFrame({\n",
    "    'Ответ_вопроса_1': features_encoded_question_1,\n",
    "    'Ответ_вопроса_2': features_question_2\n",
    "})\n",
    "\n",
    "# Присвоение весов ответам на первый вопрос\n",
    "weights_question_1 = {\n",
    "    0: 1,  # \"Я активно ищу возможности для участия\"\n",
    "    1: 3,  # \"Мне интересно, но я ещё не участвовал\"\n",
    "    2: 2,  # \"Мне это не интересно\"\n",
    "    3: 4   # \"Я не знаю, что такое научные конференции.\"\n",
    "}\n",
    "\n",
    "# Присвоение весов ответам на второй вопрос\n",
    "weights_question_2 = {\n",
    "    'Технологии и инновации': 1,\n",
    "    'Гуманитарные науки': 3,\n",
    "    'Естественные науки': 3,\n",
    "    'Социальные науки': 3,\n",
    "    'Любая тема интересует': 2\n",
    "}\n",
    "\n",
    "# Применение весов к ответам на оба вопроса\n",
    "df_encoded['Важность_вопроса_1'] = df_encoded['Ответ_вопроса_1'].map(weights_question_1)\n",
    "df_encoded['Важность_вопроса_2'] = df_encoded['Ответ_вопроса_2'].map(weights_question_2)\n",
    "\n",
    "# Дополнительная логика для формирования кластеров\n",
    "additional_conditions = (\n",
    "    (df['Какое из утверждений наиболее близко описывает ваше отношение к участию в научных конференциях?'] == \"Мне интересно, но я ещё не участвовал\") &\n",
    "    (df['В какой тематике вы бы хотели участвовать в научной конференции?'] == 'Технологии и инновации')\n",
    ")\n",
    "\n",
    "# Установка важности для ответов, соответствующих дополнительным условиям\n",
    "df_encoded.loc[additional_conditions, 'Важность_вопроса_1'] = 1  # Меняем важность вопроса_1 для соответствующих условий\n",
    "\n",
    "# Кластеризация с использованием Agglomerative Clustering\n",
    "n_clusters = 4  # Задаем количество кластеров\n",
    "agg_cluster = AgglomerativeClustering(n_clusters=n_clusters)\n",
    "labels_agg = agg_cluster.fit_predict(df_encoded[['Ответ_вопроса_1', 'Важность_вопроса_1', 'Важность_вопроса_2']])\n",
    "\n",
    "# Добавление столбца 'Cluster' с метками кластеров в исходный датасет\n",
    "df['Cluster'] = labels_agg\n",
    "\n",
    "# Вывод результатов\n",
    "df.to_csv('result1_df.csv', index=False)\n"
   ]
  },
  {
   "cell_type": "code",
   "execution_count": 27,
   "metadata": {},
   "outputs": [
    {
     "name": "stdout",
     "output_type": "stream",
     "text": [
      "Cluster\n",
      "0    59\n",
      "1    49\n",
      "3    31\n",
      "2    11\n",
      "Name: count, dtype: int64\n"
     ]
    }
   ],
   "source": [
    "test1_question = df[['Какое из утверждений наиболее близко описывает ваше отношение к участию в научных конференциях?','В какой тематике вы бы хотели участвовать в научной конференции?', 'Cluster']]\n",
    "test1_question.to_csv('test1_question.csv', index=False)\n",
    "\n",
    "cluster_counts = test1_question['Cluster'].value_counts()\n",
    "print(cluster_counts)"
   ]
  },
  {
   "cell_type": "code",
   "execution_count": 28,
   "metadata": {},
   "outputs": [],
   "source": [
    "cluster_distribution = test1_question.groupby(['Какое из утверждений наиболее близко описывает ваше отношение к участию в научных конференциях?','В какой тематике вы бы хотели участвовать в научной конференции?', 'Cluster']).size().reset_index(name='Counts')\n",
    "\n",
    "total_responses = cluster_distribution['Counts'].sum()\n",
    "cluster_distribution['Percentage'] = (cluster_distribution['Counts'] / total_responses) * 100\n",
    "\n",
    "cluster_distribution.to_csv('test1_distribution.csv', index=False)\n"
   ]
  }
 ],
 "metadata": {
  "kernelspec": {
   "display_name": "Python 3",
   "language": "python",
   "name": "python3"
  },
  "language_info": {
   "codemirror_mode": {
    "name": "ipython",
    "version": 3
   },
   "file_extension": ".py",
   "mimetype": "text/x-python",
   "name": "python",
   "nbconvert_exporter": "python",
   "pygments_lexer": "ipython3",
   "version": "3.11.7"
  }
 },
 "nbformat": 4,
 "nbformat_minor": 2
}
