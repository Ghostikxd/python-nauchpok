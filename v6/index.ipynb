{
 "cells": [
  {
   "cell_type": "code",
   "execution_count": 1,
   "metadata": {},
   "outputs": [
    {
     "ename": "ModuleNotFoundError",
     "evalue": "No module named 'sklearn'",
     "output_type": "error",
     "traceback": [
      "\u001b[0;31m---------------------------------------------------------------------------\u001b[0m",
      "\u001b[0;31mModuleNotFoundError\u001b[0m                       Traceback (most recent call last)",
      "Cell \u001b[0;32mIn[1], line 1\u001b[0m\n\u001b[0;32m----> 1\u001b[0m \u001b[38;5;28;01mfrom\u001b[39;00m \u001b[38;5;21;01msklearn\u001b[39;00m\u001b[38;5;21;01m.\u001b[39;00m\u001b[38;5;21;01mcluster\u001b[39;00m \u001b[38;5;28;01mimport\u001b[39;00m AgglomerativeClustering\n\u001b[1;32m      2\u001b[0m \u001b[38;5;28;01mfrom\u001b[39;00m \u001b[38;5;21;01msklearn\u001b[39;00m\u001b[38;5;21;01m.\u001b[39;00m\u001b[38;5;21;01mpreprocessing\u001b[39;00m \u001b[38;5;28;01mimport\u001b[39;00m LabelEncoder\n\u001b[1;32m      3\u001b[0m \u001b[38;5;28;01mimport\u001b[39;00m \u001b[38;5;21;01mpandas\u001b[39;00m \u001b[38;5;28;01mas\u001b[39;00m \u001b[38;5;21;01mpd\u001b[39;00m\n",
      "\u001b[0;31mModuleNotFoundError\u001b[0m: No module named 'sklearn'"
     ]
    }
   ],
   "source": [
    "from sklearn.cluster import AgglomerativeClustering\n",
    "from sklearn.preprocessing import LabelEncoder\n",
    "import pandas as pd\n",
    "\n",
    "# Загрузка данных\n",
    "df = pd.read_csv('2023-11-07_Opros_pervokursnikov_3.csv')  \n",
    "\n",
    "# Используйте столбцы с вопросами как признаки\n",
    "features = df.iloc[:, 3:]\n",
    "\n",
    "# Преобразование категориальных признаков в числовой формат для каждого столбца\n",
    "df_label_encoded = features.apply(LabelEncoder().fit_transform)\n",
    "\n",
    "# Кластеризация с использованием Agglomerative Clustering\n",
    "n_clusters = 4  # Задаем количество кластеров\n",
    "agg_cluster = AgglomerativeClustering(n_clusters=n_clusters)\n",
    "labels_agg = agg_cluster.fit_predict(df_label_encoded)\n",
    "\n",
    "# Добавим столбец 'Cluster' с метками кластеров в исходный датасет\n",
    "df['Cluster'] = labels_agg\n",
    "\n",
    "# Выведем результаты\n",
    "df.to_csv(f'result_with_clusters_agg_{n_clusters}.csv', index=False)\n"
   ]
  },
  {
   "cell_type": "code",
   "execution_count": 9,
   "metadata": {},
   "outputs": [],
   "source": [
    "main_question = df[['Какое из утверждений наиболее близко описывает ваше отношение к участию в научных конференциях?', 'Cluster']]\n",
    "main_question.to_csv('main_question.csv', index=False)"
   ]
  },
  {
   "cell_type": "code",
   "execution_count": 5,
   "metadata": {},
   "outputs": [
    {
     "name": "stdout",
     "output_type": "stream",
     "text": [
      "Cluster\n",
      "1    50\n",
      "0    43\n",
      "2    34\n",
      "3    23\n",
      "Name: count, dtype: int64\n"
     ]
    }
   ],
   "source": [
    "cluster_counts = main_question['Cluster'].value_counts()\n",
    "print(cluster_counts)"
   ]
  },
  {
   "cell_type": "code",
   "execution_count": 7,
   "metadata": {},
   "outputs": [
    {
     "name": "stdout",
     "output_type": "stream",
     "text": [
      "['Мне это не интересно' 'Мне интересно, но я ещё не участвовал'\n",
      " 'Я активно ищу возможности для участия'\n",
      " 'Я не знаю, что такое научные конференции.']\n"
     ]
    }
   ],
   "source": [
    "unique_answers = main_question['Какое из утверждений наиболее близко описывает ваше отношение к участию в научных конференциях?'].unique()\n",
    "print(unique_answers)"
   ]
  },
  {
   "cell_type": "code",
   "execution_count": 6,
   "metadata": {},
   "outputs": [],
   "source": [
    "cluster_distribution = main_question.groupby(['Какое из утверждений наиболее близко описывает ваше отношение к участию в научных конференциях?', 'Cluster']).size().reset_index(name='Counts')\n",
    "\n",
    "total_responses = cluster_distribution['Counts'].sum()\n",
    "cluster_distribution['Percentage'] = (cluster_distribution['Counts'] / total_responses) * 100\n",
    "\n",
    "cluster_distribution.to_csv('cluster_distribution.csv', index=False)\n"
   ]
  }
 ],
 "metadata": {
  "kernelspec": {
   "display_name": "Python 3",
   "language": "python",
   "name": "python3"
  },
  "language_info": {
   "codemirror_mode": {
    "name": "ipython",
    "version": 3
   },
   "file_extension": ".py",
   "mimetype": "text/x-python",
   "name": "python",
   "nbconvert_exporter": "python",
   "pygments_lexer": "ipython3",
   "version": "2.7.0"
  }
 },
 "nbformat": 4,
 "nbformat_minor": 2
}
