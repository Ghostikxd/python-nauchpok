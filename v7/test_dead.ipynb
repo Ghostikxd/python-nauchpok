{
 "cells": [
  {
   "cell_type": "code",
   "execution_count": 9,
   "metadata": {},
   "outputs": [],
   "source": [
    "from sklearn.cluster import AgglomerativeClustering\n",
    "from sklearn.preprocessing import LabelEncoder\n",
    "import pandas as pd\n",
    "\n",
    "# Загрузка данных\n",
    "df = pd.read_csv('2023-11-07_Opros_pervokursnikov_3.csv')  \n",
    "\n",
    "# Преобразование категориальных признаков в числовой формат\n",
    "label_encoder = LabelEncoder()\n",
    "df['Ответ_вопроса_1'] = label_encoder.fit_transform(df['Какое из утверждений наиболее близко описывает ваше отношение к участию в научных конференциях?'])\n",
    "df['Ответ_вопроса_2'] = label_encoder.fit_transform(df['В какой тематике вы бы хотели участвовать в научной конференции?'])\n",
    "\n",
    "# Кластеризация с использованием Agglomerative Clustering\n",
    "n_clusters = 4  # Задаем количество кластеров\n",
    "agg_cluster = AgglomerativeClustering(n_clusters=n_clusters)\n",
    "labels_agg = agg_cluster.fit_predict(df[['Ответ_вопроса_1']])\n",
    "\n",
    "# Добавление столбца 'Cluster' с метками кластеров в исходный датасет\n",
    "df['Cluster'] = labels_agg\n",
    "\n",
    "# Вывод результатов\n",
    "df.to_csv(f'test_dead_df.csv', index=False)\n"
   ]
  },
  {
   "cell_type": "code",
   "execution_count": 10,
   "metadata": {},
   "outputs": [],
   "source": [
    "df['Target_Cluster'] = 0\n",
    "\n",
    "# Условия для включения ответов в целевой кластер\n",
    "target_conditions = (\n",
    "    ((df['Какое из утверждений наиболее близко описывает ваше отношение к участию в научных конференциях?'] == 'Мне интересно, но я ещё не участвовал') & \n",
    "     df['В какой тематике вы бы хотели участвовать в научной конференции?'].isin(['Любая тема интересует', 'Технологии и инновации'])),\n",
    "    ((df['Какое из утверждений наиболее близко описывает ваше отношение к участию в научных конференциях?'] == 'Я активно ищу возможности для участия') & \n",
    "     df['В какой тематике вы бы хотели участвовать в научной конференции?'].isin(['Любая тема интересует', 'Технологии и инновации']))\n",
    "    # достаточно спорный/ситуативный выбор - поэтому закомментирован\n",
    "    # ((df['Какое из утверждений наиболее близко описывает ваше отношение к участию в научных конференциях?'] == 'Я не знаю, что такое научные конференции.') & \n",
    "    #  df['В какой тематике вы бы хотели участвовать в научной конференции?'].isin(['Любая тема интересует', 'Технологии и инновации']))\n",
    ")\n",
    "\n",
    "# Применяем условия к каждому кластеру\n",
    "df.loc[target_conditions[0], 'Target_Cluster'] = 1\n",
    "df.loc[target_conditions[1], 'Target_Cluster'] = 1\n",
    "#df.loc[target_conditions[2], 'Target_Cluster'] = 1\n"
   ]
  },
  {
   "cell_type": "code",
   "execution_count": 11,
   "metadata": {},
   "outputs": [
    {
     "name": "stdout",
     "output_type": "stream",
     "text": [
      "Standard Clusters:\n",
      "Cluster\n",
      "0    80\n",
      "2    51\n",
      "1    11\n",
      "3     8\n",
      "Name: count, dtype: int64\n",
      "\n",
      "Target Cluster:\n",
      "Target_Cluster\n",
      "0    94\n",
      "1    56\n",
      "Name: count, dtype: int64\n"
     ]
    }
   ],
   "source": [
    "test = df[['Какое из утверждений наиболее близко описывает ваше отношение к участию в научных конференциях?',\n",
    "                    'В какой тематике вы бы хотели участвовать в научной конференции?', 'Cluster', 'Target_Cluster']]\n",
    "test.to_csv('test_dead1.csv', index=False)\n",
    "\n",
    "cluster_counts = test['Cluster'].value_counts()\n",
    "custom_cluster_counts = test['Target_Cluster'].value_counts()\n",
    "\n",
    "print(\"Standard Clusters:\")\n",
    "print(cluster_counts)\n",
    "\n",
    "print(\"\\nTarget Cluster:\")\n",
    "print(custom_cluster_counts)"
   ]
  },
  {
   "cell_type": "code",
   "execution_count": 12,
   "metadata": {},
   "outputs": [],
   "source": [
    "cluster_distribution = test.groupby(['Какое из утверждений наиболее близко описывает ваше отношение к участию в научных конференциях?',\n",
    "                                            'В какой тематике вы бы хотели участвовать в научной конференции?',\n",
    "                                            'Cluster', 'Target_Cluster']).size().reset_index(name='Counts')\n",
    "\n",
    "total_responses = cluster_distribution['Counts'].sum()\n",
    "cluster_distribution['Percentage'] = (cluster_distribution['Counts'] / total_responses) * 100\n",
    "\n",
    "cluster_distribution.to_csv('test_dead2.csv', index=False)"
   ]
  }
 ],
 "metadata": {
  "kernelspec": {
   "display_name": "Python 3",
   "language": "python",
   "name": "python3"
  },
  "language_info": {
   "codemirror_mode": {
    "name": "ipython",
    "version": 3
   },
   "file_extension": ".py",
   "mimetype": "text/x-python",
   "name": "python",
   "nbconvert_exporter": "python",
   "pygments_lexer": "ipython3",
   "version": "3.11.6"
  }
 },
 "nbformat": 4,
 "nbformat_minor": 2
}
